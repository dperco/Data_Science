{
 "cells": [
  {
   "cell_type": "markdown",
   "metadata": {},
   "source": [
    "Generar reposte de PDF"
   ]
  },
  {
   "cell_type": "code",
   "execution_count": 1,
   "metadata": {},
   "outputs": [
    {
     "name": "stdout",
     "output_type": "stream",
     "text": [
      "Collecting reportlab\n",
      "  Downloading reportlab-4.0.9-py3-none-any.whl.metadata (1.4 kB)\n",
      "Requirement already satisfied: pillow>=9.0.0 in c:\\users\\danie\\appdata\\local\\packages\\pythonsoftwarefoundation.python.3.10_qbz5n2kfra8p0\\localcache\\local-packages\\python310\\site-packages (from reportlab) (10.1.0)\n",
      "Collecting chardet (from reportlab)\n",
      "  Downloading chardet-5.2.0-py3-none-any.whl.metadata (3.4 kB)\n",
      "Downloading reportlab-4.0.9-py3-none-any.whl (1.9 MB)\n",
      "   ---------------------------------------- 0.0/1.9 MB ? eta -:--:--\n",
      "    --------------------------------------- 0.0/1.9 MB 653.6 kB/s eta 0:00:03\n",
      "   --- ------------------------------------ 0.2/1.9 MB 1.6 MB/s eta 0:00:02\n",
      "   ------ --------------------------------- 0.3/1.9 MB 2.3 MB/s eta 0:00:01\n",
      "   --------- ------------------------------ 0.5/1.9 MB 2.4 MB/s eta 0:00:01\n",
      "   ----------------- ---------------------- 0.8/1.9 MB 3.7 MB/s eta 0:00:01\n",
      "   -------------------------------- ------- 1.6/1.9 MB 5.6 MB/s eta 0:00:01\n",
      "   ---------------------------------------- 1.9/1.9 MB 6.2 MB/s eta 0:00:00\n",
      "Downloading chardet-5.2.0-py3-none-any.whl (199 kB)\n",
      "   ---------------------------------------- 0.0/199.4 kB ? eta -:--:--\n",
      "   ---------------------------------------- 199.4/199.4 kB ? eta 0:00:00\n",
      "Installing collected packages: chardet, reportlab\n",
      "Successfully installed chardet-5.2.0 reportlab-4.0.9\n",
      "Note: you may need to restart the kernel to use updated packages.\n"
     ]
    }
   ],
   "source": [
    "%pip install reportlab\n"
   ]
  },
  {
   "cell_type": "markdown",
   "metadata": {},
   "source": [
    "bibliotecas"
   ]
  },
  {
   "cell_type": "code",
   "execution_count": 2,
   "metadata": {},
   "outputs": [],
   "source": [
    "from reportlab.lib.pagesizes import letter\n",
    "from reportlab.pdfgen import canvas\n",
    "from reportlab.lib import colors\n",
    "from PIL import Image\n"
   ]
  },
  {
   "cell_type": "markdown",
   "metadata": {},
   "source": [
    "Generar PDF"
   ]
  },
  {
   "cell_type": "code",
   "execution_count": 77,
   "metadata": {},
   "outputs": [],
   "source": [
    "from reportlab.lib.pagesizes import letter\n",
    "from reportlab.pdfgen import canvas\n",
    "from reportlab.lib import colors\n",
    "from PIL import Image\n",
    "from reportlab.platypus import Table, TableStyle\n",
    "\n",
    "def generar_pdf(path, titulo_principal, logo_path, imagenes_titulos, texto, datos_tabla):\n",
    "    c = canvas.Canvas(path, pagesize=letter)\n",
    "    width, height = letter\n",
    "\n",
    "    # Añadir el título principal\n",
    "    c.setFont(\"Helvetica-Bold\", 16)\n",
    "    c.drawString(50, height - 50, titulo_principal)\n",
    "\n",
    "    # Posición inicial para el logo y las imágenes adicionales\n",
    "    y_actual = height - 100\n",
    "\n",
    "    # Añadir el logo\n",
    "    logo_width = 200\n",
    "    logo_height = 200\n",
    "    c.drawImage(logo_path, x=150, y=y_actual - logo_height, width=logo_width, height=logo_height)\n",
    "    y_actual -= logo_height + 200  # Espacio después del logo\n",
    "\n",
    "    # Añadir imágenes adicionales y sus títulos\n",
    "    for imagen, titulo in imagenes_titulos:\n",
    "        # Dibujar título de la imagen\n",
    "        c.setFont(\"Helvetica\", 12)\n",
    "        c.drawString(50, y_actual - 200, titulo)\n",
    "        y_actual -= 30  # Espacio para el título\n",
    "\n",
    "        # Dibujar imagen\n",
    "        c.drawImage(imagen, x=150, y=y_actual - 50, width=300, height=200)\n",
    "        y_actual -= 200  # Espacio después de la imagen\n",
    "\n",
    "    # Añadir texto\n",
    "    c.setFont(\"Helvetica\", 12)\n",
    "    text_x = 150\n",
    "    text_y = y_actual - 20\n",
    "    c.drawString(text_x, text_y, texto)\n",
    "    y_actual -= 40\n",
    "\n",
    "    # Añadir una tabla\n",
    "    tabla = Table(datos_tabla, colWidths=100, rowHeights=30)\n",
    "    estilos_tabla = TableStyle([\n",
    "        # Tus estilos aquí...\n",
    "    ])\n",
    "    tabla.setStyle(estilos_tabla)\n",
    "    tabla.wrapOn(c, width, height)\n",
    "    tabla.drawOn(c, 50, y_actual - 200)\n",
    "\n",
    "    # Finalizar el PDF\n",
    "    c.save()\n"
   ]
  },
  {
   "cell_type": "markdown",
   "metadata": {},
   "source": [
    "Crear Info"
   ]
  },
  {
   "cell_type": "code",
   "execution_count": 89,
   "metadata": {},
   "outputs": [],
   "source": [
    "from reportlab.lib.pagesizes import letter\n",
    "from reportlab.pdfgen import canvas\n",
    "\n",
    "def generar_pdf(path, titulo_principal, logo_path, imagenes_titulos, texto, datos_tabla):\n",
    "    c = canvas.Canvas(path, pagesize=letter)\n",
    "    width, height = letter\n",
    "\n",
    "    # Función para agregar el título y el logo en cada página\n",
    "    def agregar_encabezado():\n",
    "        # Añadir el título principal\n",
    "        c.setFont(\"Helvetica-Bold\", 16)\n",
    "        c.drawString(50, height - 50, titulo_principal)\n",
    "\n",
    "        # Añadir el logo\n",
    "        logo_width = 100\n",
    "        logo_height = 50\n",
    "        c.drawImage(logo_path, x=50, y=height - 100 - logo_height, width=logo_width, height=logo_height)\n",
    "\n",
    "    # Página 1: Información general\n",
    "    agregar_encabezado()\n",
    "    # Aquí va el contenido de la página 1\n",
    "    c.showPage()\n",
    "\n",
    "    # Páginas 2 a 5: Imágenes y sus títulos\n",
    "    for imagen_path, titulo_imagen,comentario_imagen in imagenes_titulos:\n",
    "        agregar_encabezado()\n",
    "        # Añadir título de la imagen\n",
    "        c.setFont(\"Helvetica\", 12)\n",
    "        c.drawString(150, height - 150, titulo_imagen)\n",
    "\n",
    "        # Añadir imagen\n",
    "        imagen_width = 400\n",
    "        imagen_height = 300\n",
    "        c.drawImage(imagen_path, x=50, y=height - 150 - imagen_height, width=imagen_width, height=imagen_height)\n",
    "\n",
    "        # Si es necesario, aquí puedes agregar más texto o contenido relacionado con la imagen\n",
    "        c.setFont(\"Helvetica\", 12)\n",
    "        c.drawString(50, height - 480, comentario_imagen)\n",
    "\n",
    "        c.showPage()\n",
    "\n",
    "    # Finalizar el PDF\n",
    "    c.save()\n",
    "\n",
    "# Datos de ejemplo para la llamada a la función\n",
    "path_pdf = \"informe.pdf\"\n",
    "titulo_principal = \"Informe Consumos Sustancias Argentina 2022\"\n",
    "logo_path = \"E:/Data/Data_Sience/Data_Science/Proyecto_Consumo_sustancias_Argentina_2022/logo_proyecto.png\"\n",
    "imagenes_titulos = [\n",
    "    (\"E:/Data/Data_Sience/Data_Science/Proyecto_Consumo_sustancias_Argentina_2022/imagenes_reporte/consumo_alcohol.png\", \"Consumo Alcohol\",\"Comentario imagen 1\"),\n",
    "    (\"E:/Data/Data_Sience/Data_Science/Proyecto_Consumo_sustancias_Argentina_2022/imagenes_reporte/consumo_por_sexo.png\", \"Consumo Por Sexo\",\"Comentario imagen 2\"),\n",
    "    (\"E:/Data/Data_Sience/Data_Science/Proyecto_Consumo_sustancias_Argentina_2022/imagenes_reporte/consumo_tabaco.png\",\"Consumo Tabaco\",\"Comentario imagen 3\"),\n",
    "    (\"E:/Data/Data_Sience/Data_Science/Proyecto_Consumo_sustancias_Argentina_2022/imagenes_reporte/frecuencia_consumo.png\",\"Consumo Frecuencia\",\"Comentario imagen 4\"),\n",
    "    (\"E:/Data/Data_Sience/Data_Science/Proyecto_Consumo_sustancias_Argentina_2022/imagenes_reporte/estado_de_salud_por_edad.png\",\"Estado de Salud por Edad\",\"Comentario imagen 5\"),\n",
    "    (\"E:/Data/Data_Sience/Data_Science/Proyecto_Consumo_sustancias_Argentina_2022/imagenes_reporte/distribucion_genero_por_edad_encuestados.png\",\"Distribucion Genero por Edad Encuestados\",\"Comentario imagen 6\"),\n",
    "    (\"E:/Data/Data_Sience/Data_Science/Proyecto_Consumo_sustancias_Argentina_2022/imagenes_reporte/uso_medicamentos_edad.png\",\"Consumo Cocaina\",\"Comentario imagen 7\")   \n",
    "]\n",
    "texto = \"Texto descriptivo\"\n",
    "datos_tabla = [['Sustancia', 'Consumo'], ['Enero', 100], ['Febrero', 200]]\n",
    "\n",
    "# Llamada a la función\n",
    "generar_pdf(path_pdf, titulo_principal, logo_path, imagenes_titulos, texto, datos_tabla)\n"
   ]
  }
 ],
 "metadata": {
  "kernelspec": {
   "display_name": "Python 3",
   "language": "python",
   "name": "python3"
  },
  "language_info": {
   "codemirror_mode": {
    "name": "ipython",
    "version": 3
   },
   "file_extension": ".py",
   "mimetype": "text/x-python",
   "name": "python",
   "nbconvert_exporter": "python",
   "pygments_lexer": "ipython3",
   "version": "3.10.11"
  }
 },
 "nbformat": 4,
 "nbformat_minor": 2
}
